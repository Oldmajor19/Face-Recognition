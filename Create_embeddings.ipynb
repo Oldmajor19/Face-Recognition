{
 "cells": [
  {
   "cell_type": "code",
   "execution_count": null,
   "id": "47451e85",
   "metadata": {},
   "outputs": [],
   "source": [
    "from keras.models import load_model\n",
    "from numpy import expand_dims\n",
    "import numpy as np\n"
   ]
  },
  {
   "cell_type": "code",
   "execution_count": null,
   "id": "1d28a24b",
   "metadata": {},
   "outputs": [],
   "source": [
    "# Load face data\n",
    "data = np.load('all_face_data.npz')\n",
    "X_train, y_train, X_test, y_test = data['arr_0'], data['arr_1'] , data['arr_2'], data['arr_3']\n",
    "\n",
    "print(X_train.shape)\n",
    "print(y_test.shape)"
   ]
  },
  {
   "cell_type": "code",
   "execution_count": null,
   "id": "3ab426ae",
   "metadata": {},
   "outputs": [],
   "source": [
    "# loading facenet model from keras\n",
    "model = load_model('facenet_keras.h5')"
   ]
  },
  {
   "cell_type": "code",
   "execution_count": null,
   "id": "6d43a22c",
   "metadata": {},
   "outputs": [],
   "source": [
    "## Defining function to get face embedding\n",
    "\n",
    "def get_embedding(model, face_pixels):\n",
    "    # scale pixel values\n",
    "    face_pixels = face_pixels.astype('float32')\n",
    "    # standardize pixel values across channels (global)\n",
    "    mean, std = face_pixels.mean(), face_pixels.std()\n",
    "    face_pixels = (face_pixels - mean) / std\n",
    "    # transform face into one sample\n",
    "    samples = expand_dims(face_pixels, axis=0)\n",
    "    # make prediction to get embedding\n",
    "    yhat = model.predict(samples)\n",
    "    return yhat[0]"
   ]
  },
  {
   "cell_type": "code",
   "execution_count": null,
   "id": "c0781f78",
   "metadata": {},
   "outputs": [],
   "source": [
    "# convert each face in the train set to an embedding\n",
    "New_X_train = list()\n",
    "for face_pixels in X_train:\n",
    "    embedding = get_embedding(model, face_pixels)\n",
    "    New_X_train.append(embedding)\n",
    "\n",
    "New_X_train = np.asarray(New_X_train)\n",
    "print('Shape of New_x_train is ',New_X_train.shape)\n",
    "\n",
    "# convert each face in the test set to an embedding\n",
    "New_X_test = list()\n",
    "for face_pixels in X_test:\n",
    "    embedding = get_embedding(model, face_pixels)\n",
    "    New_X_test.append(embedding)\n",
    "\n",
    "New_X_test = np.asarray(New_X_test)\n",
    "print('Shape of New_x_test is ',New_X_test.shape)"
   ]
  },
  {
   "cell_type": "code",
   "execution_count": null,
   "id": "4a568beb",
   "metadata": {},
   "outputs": [],
   "source": [
    "#save your new face arrays with Facenet embeddings\n",
    "np.savez_compressed('all_face_embeddings.npz', New_X_train, y_train, New_X_test, y_test)"
   ]
  },
  {
   "cell_type": "code",
   "execution_count": null,
   "id": "98d7e683",
   "metadata": {},
   "outputs": [],
   "source": []
  }
 ],
 "metadata": {
  "kernelspec": {
   "display_name": "Python 3 (ipykernel)",
   "language": "python",
   "name": "python3"
  },
  "language_info": {
   "codemirror_mode": {
    "name": "ipython",
    "version": 3
   },
   "file_extension": ".py",
   "mimetype": "text/x-python",
   "name": "python",
   "nbconvert_exporter": "python",
   "pygments_lexer": "ipython3",
   "version": "3.8.8"
  }
 },
 "nbformat": 4,
 "nbformat_minor": 5
}
