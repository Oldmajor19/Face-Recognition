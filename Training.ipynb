{
 "cells": [
  {
   "cell_type": "code",
   "execution_count": null,
   "id": "17f09228",
   "metadata": {},
   "outputs": [],
   "source": [
    "from sklearn.preprocessing import LabelEncoder\n",
    "from sklearn.preprocessing import Normalizer\n",
    "from sklearn.metrics import accuracy_score\n",
    "from matplotlib import pyplot\n",
    "from numpy import expand_dims\n",
    "from sklearn.svm import SVC\n",
    "from random import choice\n",
    "import numpy as np"
   ]
  },
  {
   "cell_type": "code",
   "execution_count": null,
   "id": "0fd66a23",
   "metadata": {},
   "outputs": [],
   "source": [
    "# Load data\n",
    "data = np.load('all_face_embeddings.npz')\n",
    "X_train, y_train, X_test, y_test = data['arr_0'], data['arr_1'], data['arr_2'], data['arr_3']"
   ]
  },
  {
   "cell_type": "code",
   "execution_count": null,
   "id": "ba356eb2",
   "metadata": {},
   "outputs": [],
   "source": [
    "# normalize input vectors\n",
    "in_encoder = Normalizer(norm='l2')\n",
    "X_train = in_encoder.transform(X_train)\n",
    "X_test = in_encoder.transform(X_test)\n",
    "\n",
    "# encode target\n",
    "lr = LabelEncoder()\n",
    "y_train = lr.fit_transform(y_train)\n",
    "\n",
    "y_test = lr.fit_transform(y_test)"
   ]
  },
  {
   "cell_type": "code",
   "execution_count": null,
   "id": "45b76e89",
   "metadata": {},
   "outputs": [],
   "source": [
    "# fit model\n",
    "model = SVC(kernel='linear', probability=True)\n",
    "model.fit(X_train, y_train)\n",
    "# predict\n",
    "yhat_train = model.predict(X_train)\n",
    "yhat_test = model.predict(X_test)\n",
    "# score\n",
    "score_train = accuracy_score(y_train, yhat_train)\n",
    "score_test = accuracy_score(y_test, yhat_test)\n",
    "# summarize\n",
    "print('Dataset: train=%d, test=%d' % (X_train.shape[0], X_test.shape[0]))\n",
    "print('Accuracy: train=%.3f, test=%.3f' % (score_train*100, score_test*100))"
   ]
  },
  {
   "cell_type": "markdown",
   "id": "ebcce743",
   "metadata": {},
   "source": [
    "#### Making predictions on test data"
   ]
  },
  {
   "cell_type": "code",
   "execution_count": null,
   "id": "6311fda9",
   "metadata": {},
   "outputs": [],
   "source": [
    "# Loading data\n",
    "data = np.load('all_face_data.npz')\n",
    "testX_faces = data['arr_2']\n",
    "\n",
    "selection = choice([i for i in range(X_test.shape[0])])\n",
    "random_face_pixels = testX_faces[selection]\n",
    "random_face_emb = X_test[selection]\n",
    "random_face_class = y_test[selection]\n",
    "random_face_name = lr.inverse_transform([random_face_class])\n",
    "# prediction for the face\n",
    "samples = expand_dims(random_face_emb, axis=0)\n",
    "yhat_class = model.predict(samples)\n",
    "yhat_prob = model.predict_proba(samples)\n",
    "# get name\n",
    "class_index = yhat_class[0]\n",
    "class_probability = yhat_prob[0,class_index] * 100\n",
    "predict_names = lr.inverse_transform(yhat_class)\n",
    "print('Predicted: %s (%.3f)' % (predict_names[0], class_probability))\n",
    "print('Expected: %s' % random_face_name[0])\n",
    "# plot for fun\n",
    "pyplot.imshow(random_face_pixels)\n",
    "title = '%s (%.3f)' % (predict_names[0], class_probability)\n",
    "pyplot.title(title)\n",
    "pyplot.show()"
   ]
  },
  {
   "cell_type": "code",
   "execution_count": null,
   "id": "84c1a6a1",
   "metadata": {},
   "outputs": [],
   "source": [
    "X_test[1].shape"
   ]
  },
  {
   "cell_type": "code",
   "execution_count": null,
   "id": "de68b990",
   "metadata": {},
   "outputs": [],
   "source": [
    "X_test.shape"
   ]
  },
  {
   "cell_type": "code",
   "execution_count": null,
   "id": "751f694f",
   "metadata": {},
   "outputs": [],
   "source": []
  }
 ],
 "metadata": {
  "kernelspec": {
   "display_name": "Python 3",
   "language": "python",
   "name": "python3"
  },
  "language_info": {
   "codemirror_mode": {
    "name": "ipython",
    "version": 3
   },
   "file_extension": ".py",
   "mimetype": "text/x-python",
   "name": "python",
   "nbconvert_exporter": "python",
   "pygments_lexer": "ipython3",
   "version": "3.8.8"
  }
 },
 "nbformat": 4,
 "nbformat_minor": 5
}
