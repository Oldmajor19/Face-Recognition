{
 "cells": [
  {
   "cell_type": "code",
   "execution_count": null,
   "id": "fe28cd1e",
   "metadata": {},
   "outputs": [],
   "source": [
    "from sklearn.model_selection import train_test_split\n",
    "import matplotlib.pyplot as plt\n",
    "from mtcnn.mtcnn import MTCNN\n",
    "import tensorflow as tf\n",
    "from PIL import Image\n",
    "import seaborn as sns\n",
    "import pandas as pd\n",
    "import numpy as np\n",
    "import cv2\n",
    "import os"
   ]
  },
  {
   "cell_type": "code",
   "execution_count": null,
   "id": "e96da808",
   "metadata": {},
   "outputs": [],
   "source": [
    "### Define path\n",
    "img_path = 'images'\n"
   ]
  },
  {
   "cell_type": "markdown",
   "id": "d37e9096",
   "metadata": {},
   "source": [
    "### Load dataset"
   ]
  },
  {
   "cell_type": "code",
   "execution_count": null,
   "id": "4b85ad1b",
   "metadata": {},
   "outputs": [],
   "source": [
    "def load_data(path):\n",
    "    name = []\n",
    "    labels = []\n",
    "    for subdir, dirs, files in os.walk(img_path):\n",
    "        for dir in dirs:\n",
    "            x = os.path.join(subdir, dir)\n",
    "            for i in os.listdir(x):\n",
    "                path = os.path.join(x, i)\n",
    "                label = path.split(os.sep)[1]\n",
    "                labels.append(label)\n",
    "                name.append(i)\n",
    "    df = pd.DataFrame({'filename':name, 'label':labels})\n",
    "    return df\n",
    "df = load_data(img_path)\n",
    "\n",
    "df.head()"
   ]
  },
  {
   "cell_type": "code",
   "execution_count": null,
   "id": "8f92f23a",
   "metadata": {},
   "outputs": [],
   "source": [
    "# Analyze\n",
    "df[\"label\"].value_counts()"
   ]
  },
  {
   "cell_type": "code",
   "execution_count": null,
   "id": "813eaefc",
   "metadata": {},
   "outputs": [],
   "source": [
    "plt.figure(figsize=(7,7))\n",
    "sns.countplot(x = df['label'])\n",
    "plt.show()"
   ]
  },
  {
   "cell_type": "code",
   "execution_count": null,
   "id": "2c119f50",
   "metadata": {},
   "outputs": [],
   "source": [
    "#setting seed and spliting\n",
    "seed = 0\n",
    "np.random.seed(seed)\n",
    "tf.random.set_seed(3)\n",
    "\n",
    "\n",
    "train_set, valid_set = train_test_split(df, test_size=0.2,random_state=seed)"
   ]
  },
  {
   "cell_type": "code",
   "execution_count": null,
   "id": "539bd879",
   "metadata": {},
   "outputs": [],
   "source": [
    "train_set.shape, valid_set.shape"
   ]
  },
  {
   "cell_type": "code",
   "execution_count": null,
   "id": "1feeaabf",
   "metadata": {
    "scrolled": true
   },
   "outputs": [],
   "source": [
    "train_set = train_set.reset_index() #To avoid keyerror when looping\n",
    "train_set.head()"
   ]
  },
  {
   "cell_type": "code",
   "execution_count": null,
   "id": "33622fd8",
   "metadata": {},
   "outputs": [],
   "source": [
    "valid_set = valid_set.reset_index()\n",
    "valid_set.head()"
   ]
  },
  {
   "cell_type": "code",
   "execution_count": null,
   "id": "4e95a81f",
   "metadata": {},
   "outputs": [],
   "source": [
    "plt.figure(figsize=(10,5))\n",
    "plt.subplot(1,3,1)\n",
    "sns.countplot(x=train_set['label'])\n",
    "plt.title('Train set label distribution')\n",
    "\n",
    "plt.subplot(1,3,3)\n",
    "sns.countplot(x=valid_set['label'])\n",
    "plt.title('valid set label distribution')\n",
    "plt.show()"
   ]
  },
  {
   "cell_type": "markdown",
   "id": "91c693a0",
   "metadata": {},
   "source": [
    "### Detect face with mtcnn"
   ]
  },
  {
   "cell_type": "code",
   "execution_count": null,
   "id": "7d560fed",
   "metadata": {},
   "outputs": [],
   "source": [
    "def crop_faces(image):\n",
    "    img = Image.open(image)\n",
    "    # convert to RGB if needed\n",
    "    img = img.convert('RGB')\n",
    "    # convert to array\n",
    "    pixel = np.asarray(img)\n",
    "    \n",
    "    #load mtcnn detector\n",
    "    detector = MTCNN()\n",
    "    locate_face = detector.detect_faces(pixel)\n",
    "    x1,y1,w,h = locate_face[0]['box']\n",
    "    x1, y1 = abs(x1), abs(y1)\n",
    "    x2, y2 = x1 + w, y1 + h\n",
    "    \n",
    "    # crop the face with coordinates\n",
    "    face = pixel[y1:y2, x1:x2]\n",
    "    \n",
    "    # resize pixel to that required by facenet\n",
    "    image = Image.fromarray(face)\n",
    "    image = image.resize((160,160))\n",
    "    face_array = np.asarray(image)\n",
    "#     plt.imshow(face_array)\n",
    "#     plt.show()\n",
    "    return face_array"
   ]
  },
  {
   "cell_type": "code",
   "execution_count": null,
   "id": "e90ec4b6",
   "metadata": {},
   "outputs": [],
   "source": [
    "def extract_faces(img_path, dataframe):\n",
    "    faces = []\n",
    "    labels = []\n",
    "    for subdir, dirs, files in os.walk(img_path):\n",
    "        for dir in dirs:\n",
    "            for i in range(len(dataframe)):\n",
    "                path = os.path.join(subdir, dir, dataframe['filename'][i])\n",
    "                if os.path.exists(path):\n",
    "                    label = dataframe['label'][i]\n",
    "                    face = crop_faces(path)\n",
    "                    labels.append(label)\n",
    "                    faces.append(face)\n",
    "                else:\n",
    "                    continue\n",
    "        return np.asarray(faces), np.asarray(labels)"
   ]
  },
  {
   "cell_type": "code",
   "execution_count": null,
   "id": "40c3209c",
   "metadata": {
    "scrolled": true
   },
   "outputs": [],
   "source": [
    "#for train set\n",
    "X_train, y_train = extract_faces(img_path, train_set)\n",
    "\n",
    "#for valid set\n",
    "X_test, y_test = extract_faces(img_path, valid_set)\n",
    "\n",
    "print('Amount of train data is ', len(X_train))\n",
    "print('Amount of test data is ', len(X_test))"
   ]
  },
  {
   "cell_type": "code",
   "execution_count": null,
   "id": "c3536071",
   "metadata": {},
   "outputs": [],
   "source": [
    "print(X_train.shape)\n",
    "print(X_test.shape)"
   ]
  },
  {
   "cell_type": "code",
   "execution_count": null,
   "id": "7a180bc5",
   "metadata": {},
   "outputs": [],
   "source": [
    "# save arrays to one file in compressed format\n",
    "\n",
    "np.savez_compressed('all_face_data.npz', X_train, y_train, X_test, y_test)\n",
    "print('Done')"
   ]
  },
  {
   "cell_type": "code",
   "execution_count": null,
   "id": "ba727c7f",
   "metadata": {},
   "outputs": [],
   "source": []
  }
 ],
 "metadata": {
  "kernelspec": {
   "display_name": "Python 3",
   "language": "python",
   "name": "python3"
  },
  "language_info": {
   "codemirror_mode": {
    "name": "ipython",
    "version": 3
   },
   "file_extension": ".py",
   "mimetype": "text/x-python",
   "name": "python",
   "nbconvert_exporter": "python",
   "pygments_lexer": "ipython3",
   "version": "3.8.8"
  }
 },
 "nbformat": 4,
 "nbformat_minor": 5
}
